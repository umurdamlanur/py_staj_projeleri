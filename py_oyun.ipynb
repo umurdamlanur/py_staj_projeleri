{
 "cells": [
  {
   "cell_type": "code",
   "execution_count": 15,
   "id": "7c0f10d2",
   "metadata": {},
   "outputs": [
    {
     "name": "stdout",
     "output_type": "stream",
     "text": [
      "Oyuncu adını girin: mars\n",
      "Oyuncu türünü girin: cat\n",
      "cat-mars\n",
      "oyuna hazır\n",
      "oyun başlıyor!\n",
      "hareket ediliyor...\n",
      "puan kazanılıyor...\n",
      ">\n",
      "1. oyuncu\n",
      "hareket ediliyor...\n",
      "puan kaybedildi\n"
     ]
    },
    {
     "data": {
      "text/plain": [
       "0"
      ]
     },
     "execution_count": 15,
     "metadata": {},
     "output_type": "execute_result"
    }
   ],
   "source": [
    "class Oyun(): #tür kısmına hayvan belirtiniz!\n",
    "    def __init__(self, oyuncu, tür):\n",
    "        self.oyuncu = oyuncu\n",
    "        self.tür = tür\n",
    "        self.güç = 0\n",
    "\n",
    "    def hareket_et(self):\n",
    "        print('hareket ediliyor...')\n",
    "\n",
    "    def puan_kazan(self):\n",
    "        print('puan kazanılıyor...')\n",
    "\n",
    "    def puan_kaybet(self):\n",
    "        print('puan kaybedildi')\n",
    "\n",
    "class part1(Oyun):\n",
    "    pass\n",
    "\n",
    "oyuncu = input(\"Oyuncu adını girin: \")\n",
    "tür = input(\"Oyuncu türünü girin: \")\n",
    "p1 = Oyun(oyuncu, tür)\n",
    "\n",
    "#p1 = Oyun(\"mars\", \"cat\") #oyuncu adı + türü\n",
    "\n",
    "print(p1.tür + \"-\" + p1.oyuncu)\n",
    "print(\"oyuna hazır\")\n",
    "print(\"oyun başlıyor!\")\n",
    "\n",
    "p1.hareket_et()\n",
    "p1.puan_kazan()\n",
    "print(\">\")\n",
    "print(\"1. oyuncu\")\n",
    "\n",
    "p1.hareket_et()\n",
    "p1.puan_kaybet()\n",
    "p1.güç"
   ]
  },
  {
   "cell_type": "code",
   "execution_count": 17,
   "id": "4ea05c29",
   "metadata": {},
   "outputs": [
    {
     "name": "stdout",
     "output_type": "stream",
     "text": [
      "Oyuncu adını girin: gölge\n",
      "Oyuncu türünü girin: dog\n",
      "oyun başlıyor!\n",
      "hareket ediliyor...\n",
      "puan kazanılıyor...\n",
      ">\n",
      "1. oyuncu\n",
      "hareket ediliyor...\n",
      "puan kazanılıyor...\n"
     ]
    },
    {
     "data": {
      "text/plain": [
       "0"
      ]
     },
     "execution_count": 17,
     "metadata": {},
     "output_type": "execute_result"
    }
   ],
   "source": [
    "class part2(Oyun):\n",
    "    def hareket_et(self):\n",
    "        print('-hareket ediyor...')\n",
    "\n",
    "    def puan_kazan(self):\n",
    "        print('-puan kazanıldı')\n",
    "\n",
    "    def puan_kaybet(self):\n",
    "        print('--puan kaybedildi')\n",
    "\n",
    "#p2 = part2('gölge', 'dog')\n",
    "oyuncu = input(\"Oyuncu adını girin: \")\n",
    "tür = input(\"Oyuncu türünü girin: \")\n",
    "p2 = Oyun(oyuncu, tür)\n",
    "\n",
    "#========================================================================\n",
    "\n",
    "class part3(Oyun):\n",
    "    pass\n",
    "#========================================================================\n",
    "\n",
    "class part4(Oyun):\n",
    "    pass\n",
    "#========================================================================\n",
    "\n",
    "p3 = part3('mia', 'cat')\n",
    "\n",
    "print(\"oyun başlıyor!\")\n",
    "\n",
    "p1.hareket_et()\n",
    "p1.puan_kazan()\n",
    "print(\">\")\n",
    "print(\"1. oyuncu\")\n",
    "\n",
    "p2.hareket_et()\n",
    "p2.puan_kazan()\n",
    "p2.güç"
   ]
  },
  {
   "cell_type": "code",
   "execution_count": null,
   "id": "01ee33a0",
   "metadata": {},
   "outputs": [],
   "source": []
  },
  {
   "cell_type": "code",
   "execution_count": null,
   "id": "fbb20ab4",
   "metadata": {},
   "outputs": [],
   "source": []
  }
 ],
 "metadata": {
  "kernelspec": {
   "display_name": "Python 3 (ipykernel)",
   "language": "python",
   "name": "python3"
  },
  "language_info": {
   "codemirror_mode": {
    "name": "ipython",
    "version": 3
   },
   "file_extension": ".py",
   "mimetype": "text/x-python",
   "name": "python",
   "nbconvert_exporter": "python",
   "pygments_lexer": "ipython3",
   "version": "3.10.8"
  }
 },
 "nbformat": 4,
 "nbformat_minor": 5
}
