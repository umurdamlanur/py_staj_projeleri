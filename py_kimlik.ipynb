{
 "cells": [
  {
   "cell_type": "code",
   "execution_count": 5,
   "id": "43085ddd",
   "metadata": {},
   "outputs": [
    {
     "name": "stdout",
     "output_type": "stream",
     "text": [
      "lütfen kimlik bilgilerinizi girniz!\n",
      "tc kimlik: 11111111111\n",
      "adınız: qw\n",
      "soyadınız: qw\n",
      "doğum tarihiniz:01.01.2000\n",
      "anne adı:q\n",
      "baba adı:q\n",
      " \n",
      "kişinin kimlik bilgileri yazdırılıyor...\n",
      "11111111111\n",
      "qw qw\n",
      "01.01.2000\n"
     ]
    }
   ],
   "source": [
    "class kimlik():\n",
    "    def __init__(self, ad, soyad, tc_no, dogum_tarih, anne_ad, baba_ad):\n",
    "        self.ad = ad\n",
    "        self.soyad = soyad\n",
    "        self.__tc_no = tc_no\n",
    "        self.dogum_tarih = dogum_tarih\n",
    "        self.anne_ad = anne_ad\n",
    "        self.baba_ad = baba_ad\n",
    "    \n",
    "    def get_tcno(self):\n",
    "        return self.__tc_no\n",
    "    \n",
    "    def set_tcno(self, tc_no):\n",
    "        self.__tc_no = tc_no\n",
    "\n",
    "print(\"lütfen kimlik bilgilerinizi girniz!\")\n",
    "tc_no = input(\"tc kimlik: \")\n",
    "ad = input(\"adınız: \")\n",
    "soyad = input(\"soyadınız: \")\n",
    "dogum_tarih = input(\"doğum tarihiniz:\")\n",
    "anne_ad = input(\"anne adı:\")\n",
    "baba_ad = input(\"baba adı:\")\n",
    "print (\" \")\n",
    "\n",
    "print(\"kişinin kimlik bilgileri yazdırılıyor...\")\n",
    "k1 = kimlik(ad, soyad, tc_no, dogum_tarih, anne_ad, baba_ad)\n",
    "print(k1.get_tcno())\n",
    "print(k1.ad + \" \" + k1.soyad)\n",
    "print(k1.dogum_tarih)\n"
   ]
  },
  {
   "cell_type": "code",
   "execution_count": null,
   "id": "7a9430f2",
   "metadata": {},
   "outputs": [],
   "source": []
  },
  {
   "cell_type": "code",
   "execution_count": null,
   "id": "0ac648de",
   "metadata": {},
   "outputs": [],
   "source": []
  }
 ],
 "metadata": {
  "kernelspec": {
   "display_name": "Python 3 (ipykernel)",
   "language": "python",
   "name": "python3"
  },
  "language_info": {
   "codemirror_mode": {
    "name": "ipython",
    "version": 3
   },
   "file_extension": ".py",
   "mimetype": "text/x-python",
   "name": "python",
   "nbconvert_exporter": "python",
   "pygments_lexer": "ipython3",
   "version": "3.10.8"
  }
 },
 "nbformat": 4,
 "nbformat_minor": 5
}
